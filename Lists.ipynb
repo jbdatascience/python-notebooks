{
 "cells": [
  {
   "cell_type": "markdown",
   "metadata": {},
   "source": [
    "# Python Lists\n",
    "\n",
    "**Lists** are a data structure available in Python which allow us to work with multiple values/objects all at once. A single variable describes a list of values which do not have to be of the same type. A list can include intergers, strings, boolean values, dictionaries and more."
   ]
  },
  {
   "cell_type": "markdown",
   "metadata": {},
   "source": [
    "This notebook describes the use of lists in Python from the very start. It describes how to define a list and then progresses towards some of the most useful code snippets that you can use when working with lists."
   ]
  },
  {
   "cell_type": "markdown",
   "metadata": {},
   "source": [
    "## 1. Creating a list\n",
    "\n",
    "Defining a list in Python is very simple. You just write a bunch of comma separated values inside square brackets and it forms a list."
   ]
  },
  {
   "cell_type": "code",
   "execution_count": 1,
   "metadata": {},
   "outputs": [
    {
     "data": {
      "text/plain": [
       "[1, True, 'Word', {'key': 'value'}]"
      ]
     },
     "execution_count": 1,
     "metadata": {},
     "output_type": "execute_result"
    }
   ],
   "source": [
    "basic_list = [1, True, \"Word\", {\"key\": \"value\"}]\n",
    "basic_list"
   ]
  },
  {
   "cell_type": "markdown",
   "metadata": {},
   "source": [
    "We can also create a list using the `list()` method. It expects an iterable which could be a set, dictionary, and more. However, if we do not provide anything, we get an empty list."
   ]
  },
  {
   "cell_type": "code",
   "execution_count": 2,
   "metadata": {},
   "outputs": [
    {
     "data": {
      "text/plain": [
       "[]"
      ]
     },
     "execution_count": 2,
     "metadata": {},
     "output_type": "execute_result"
    }
   ],
   "source": [
    "empty_list = list() # or empty_list = []\n",
    "empty_list"
   ]
  },
  {
   "cell_type": "code",
   "execution_count": 3,
   "metadata": {},
   "outputs": [
    {
     "data": {
      "text/plain": [
       "[1, 2, 3, 4]"
      ]
     },
     "execution_count": 3,
     "metadata": {},
     "output_type": "execute_result"
    }
   ],
   "source": [
    "list({1, 2, 3, 4})"
   ]
  },
  {
   "cell_type": "markdown",
   "metadata": {},
   "source": [
    "## 2. Elements of a list\n",
    "\n",
    "Once we have a list with us, the next step is to get and/or update values in the list. All elements in a list are identified by their index. Index in Python start with 0 and go till one less than the total elements of a list. Once we know the index of the element, we use it inside the square brackets and get the element we want.\n",
    "\n",
    "Let's take an example. Suppose we have the list as `list = [\"a\", \"b\", \"c\"]`. Here, `a` has the index `0`, `b` has the index 1 and so on. If we want to get the second element i.e. `b`, we use the index value 1 i.e. `list[1]`.\n",
    "\n",
    "**Note:** If we want to have the third element in the list, we use index as 2 i.e. one less as the element number as indices in Python start at 0."
   ]
  },
  {
   "cell_type": "code",
   "execution_count": 4,
   "metadata": {},
   "outputs": [
    {
     "data": {
      "text/plain": [
       "'Word'"
      ]
     },
     "execution_count": 4,
     "metadata": {},
     "output_type": "execute_result"
    }
   ],
   "source": [
    "# Third element in the list below\n",
    "basic_list = [1, True, \"Word\", {\"key\": \"value\"}]\n",
    "basic_list[2]"
   ]
  },
  {
   "cell_type": "markdown",
   "metadata": {},
   "source": [
    "We can use the same method to update the values of the list as well. If we want to set the third element in the list above as `NewWord` in place of `Word`, we can do so by assigning the new value to it."
   ]
  },
  {
   "cell_type": "code",
   "execution_count": 5,
   "metadata": {},
   "outputs": [
    {
     "data": {
      "text/plain": [
       "[1, True, 'NewWord', {'key': 'value'}]"
      ]
     },
     "execution_count": 5,
     "metadata": {},
     "output_type": "execute_result"
    }
   ],
   "source": [
    "basic_list[2] = 'NewWord'\n",
    "basic_list"
   ]
  },
  {
   "cell_type": "markdown",
   "metadata": {},
   "source": [
    "## 3. Accessing mutliple elements\n",
    "\n",
    "Above, we saw that we can use index value to access an element or even update elements. But Python is super amazing in allowing us to work with not just one but many elements all at once.\n",
    "\n",
    "Inside the square brackets, we can specify a list of indices to select. The list starts by a number denoting the start index (which if left blank means we start at index 0), followed by a `:` indicating we are defining a range of values and finally another index which is the ending index (which if left blank means the range goes till the end of list).\n",
    "\n",
    "**Note:** When selecting such a range, the last index value is never included in the result."
   ]
  },
  {
   "cell_type": "code",
   "execution_count": 6,
   "metadata": {},
   "outputs": [],
   "source": [
    "long_list = [1, 2, 3, 4, 5, 6, 7, 8, 9, 10]"
   ]
  },
  {
   "cell_type": "markdown",
   "metadata": {},
   "source": [
    "### 3.1 Using start and end index"
   ]
  },
  {
   "cell_type": "markdown",
   "metadata": {},
   "source": [
    "Show the complete list of elements."
   ]
  },
  {
   "cell_type": "code",
   "execution_count": 7,
   "metadata": {},
   "outputs": [
    {
     "data": {
      "text/plain": [
       "[1, 2, 3, 4, 5, 6, 7, 8, 9, 10]"
      ]
     },
     "execution_count": 7,
     "metadata": {},
     "output_type": "execute_result"
    }
   ],
   "source": [
    "long_list[:] # or long_list"
   ]
  },
  {
   "cell_type": "markdown",
   "metadata": {},
   "source": [
    "All elements starting from the second (index would be 1) till the end."
   ]
  },
  {
   "cell_type": "code",
   "execution_count": 8,
   "metadata": {},
   "outputs": [
    {
     "data": {
      "text/plain": [
       "[2, 3, 4, 5, 6, 7, 8, 9, 10]"
      ]
     },
     "execution_count": 8,
     "metadata": {},
     "output_type": "execute_result"
    }
   ],
   "source": [
    "long_list[1:]"
   ]
  },
  {
   "cell_type": "markdown",
   "metadata": {},
   "source": [
    "All elements till the second last."
   ]
  },
  {
   "cell_type": "code",
   "execution_count": 9,
   "metadata": {},
   "outputs": [],
   "source": [
    " # or long_list[:9]"
   ]
  },
  {
   "cell_type": "markdown",
   "metadata": {},
   "source": [
    "We can specify both the start and end index. In the example, we show elements from index 1 to 5. To show the element at 5th index, we'll have to set the end index as 6."
   ]
  },
  {
   "cell_type": "code",
   "execution_count": 10,
   "metadata": {},
   "outputs": [
    {
     "data": {
      "text/plain": [
       "[2, 3, 4, 5, 6]"
      ]
     },
     "execution_count": 10,
     "metadata": {},
     "output_type": "execute_result"
    }
   ],
   "source": [
    "long_list[1:6]"
   ]
  },
  {
   "cell_type": "markdown",
   "metadata": {},
   "source": [
    "### 3.2 Negative index"
   ]
  },
  {
   "cell_type": "markdown",
   "metadata": {},
   "source": [
    "We can also use negative indices which means that we start from the right of the list. Thus, `-1` means the last element, `-2` is the second last element and so on."
   ]
  },
  {
   "cell_type": "code",
   "execution_count": 11,
   "metadata": {},
   "outputs": [
    {
     "data": {
      "text/plain": [
       "10"
      ]
     },
     "execution_count": 11,
     "metadata": {},
     "output_type": "execute_result"
    }
   ],
   "source": [
    "# Last element\n",
    "long_list[-1]"
   ]
  },
  {
   "cell_type": "markdown",
   "metadata": {},
   "source": [
    "We can get the values from the end of a list as well using the negative indices. If we want to get 3 values from the end except the last one, we use the code below. Note that again, the last index element is ignored."
   ]
  },
  {
   "cell_type": "code",
   "execution_count": 12,
   "metadata": {},
   "outputs": [
    {
     "data": {
      "text/plain": [
       "[7, 8, 9]"
      ]
     },
     "execution_count": 12,
     "metadata": {},
     "output_type": "execute_result"
    }
   ],
   "source": [
    "long_list[-4:-1]"
   ]
  },
  {
   "cell_type": "markdown",
   "metadata": {},
   "source": [
    "### 3.3 Step"
   ]
  },
  {
   "cell_type": "markdown",
   "metadata": {},
   "source": [
    "We can also specify a third value inside the square brackets which refers to the step we want to take. Step here means how many numbers you want to jump when iterating over a range. This value is separated by a `:`.\n",
    "\n",
    "If we want to go from index 1 to 8 with step as 2, it'll be as follows."
   ]
  },
  {
   "cell_type": "code",
   "execution_count": 13,
   "metadata": {},
   "outputs": [
    {
     "data": {
      "text/plain": [
       "[2, 4, 6, 8]"
      ]
     },
     "execution_count": 13,
     "metadata": {},
     "output_type": "execute_result"
    }
   ],
   "source": [
    "long_list[1:8:2]"
   ]
  },
  {
   "cell_type": "markdown",
   "metadata": {},
   "source": [
    "### 3.4 Reverse\n",
    "\n",
    "In the above code, if we use the value of step as `-1`, it'll mean that we want to step by one but in the negative direction. This will give the result as the reverse of the original list as we start from the end and go back one step at a time to the very start. We can skip the first two index values to denote we want the whole list."
   ]
  },
  {
   "cell_type": "code",
   "execution_count": 14,
   "metadata": {},
   "outputs": [
    {
     "data": {
      "text/plain": [
       "[10, 9, 8, 7, 6, 5, 4, 3, 2, 1]"
      ]
     },
     "execution_count": 14,
     "metadata": {},
     "output_type": "execute_result"
    }
   ],
   "source": [
    "long_list[::-1]"
   ]
  },
  {
   "cell_type": "markdown",
   "metadata": {},
   "source": [
    "### 3.5 Getting values inside variables\n",
    "\n",
    "We can extract multiple values out of a list at once."
   ]
  },
  {
   "cell_type": "code",
   "execution_count": 15,
   "metadata": {},
   "outputs": [
    {
     "name": "stdout",
     "output_type": "stream",
     "text": [
      "The three values are: 1, 2 and 3\n"
     ]
    }
   ],
   "source": [
    "three_element_list = [1, 2, 3]\n",
    "first, middle, last = three_element_list\n",
    "print(\"The three values are: {}, {} and {}\".format(first, middle, last))"
   ]
  },
  {
   "cell_type": "markdown",
   "metadata": {},
   "source": [
    "We can get specific elements from a list too. We just need to set the remaining elements to a new array defined by a `*`."
   ]
  },
  {
   "cell_type": "code",
   "execution_count": 16,
   "metadata": {},
   "outputs": [
    {
     "name": "stdout",
     "output_type": "stream",
     "text": [
      "First: 1\n",
      "Last: 10\n",
      "Remaining list: [2, 3, 4, 5, 6, 7, 8, 9]\n"
     ]
    }
   ],
   "source": [
    "# Getting the first and last values\n",
    "first, *remaining_list, last = long_list\n",
    "print(\"First: {}\".format(first))\n",
    "print(\"Last: {}\".format(last))\n",
    "print(\"Remaining list: {}\".format(remaining_list))"
   ]
  },
  {
   "cell_type": "markdown",
   "metadata": {},
   "source": [
    "## 6. Iterate multiple lists\n",
    "\n",
    "In Python, it's very easy to go over the elements of a list using a for loop. But what if you want to traverse two lists simulatenously? We use the `zip()` method to create a list of tuples which we can iterate over in a for loop. Here, we'll see that in each tuple, the first element belongs to first list and second element belongs to second list."
   ]
  },
  {
   "cell_type": "code",
   "execution_count": 17,
   "metadata": {},
   "outputs": [
    {
     "name": "stdout",
     "output_type": "stream",
     "text": [
      "Values: 1 - 5\n",
      "Values: 2 - 6\n",
      "Values: 3 - 7\n",
      "Values: 4 - 8\n"
     ]
    }
   ],
   "source": [
    "arr1 = [1, 2, 3, 4]\n",
    "arr2 = [5, 6, 7, 8]\n",
    "for first, second in zip(arr1, arr2):\n",
    "    print(\"Values: {} - {}\".format(first, second))"
   ]
  },
  {
   "cell_type": "markdown",
   "metadata": {},
   "source": [
    "arr = [\"My\", \"name\", \"is\", \"Karan\"]\n",
    "\" \".join(arr)"
   ]
  },
  {
   "cell_type": "code",
   "execution_count": 18,
   "metadata": {},
   "outputs": [
    {
     "data": {
      "text/plain": [
       "[1, 4, 9, 16]"
      ]
     },
     "execution_count": 18,
     "metadata": {},
     "output_type": "execute_result"
    }
   ],
   "source": [
    "arr1 = [1, 2, 3, 4]\n",
    "arr2 = [a*a for a in arr1] # List Comprehensions¶\n",
    "arr2"
   ]
  },
  {
   "cell_type": "code",
   "execution_count": 19,
   "metadata": {},
   "outputs": [
    {
     "name": "stdout",
     "output_type": "stream",
     "text": [
      "At least one True - True\n",
      "All True - False\n"
     ]
    }
   ],
   "source": [
    "arr = [False, False, False, True, False, False]\n",
    "print(\"At least one True - {}\".format(any(arr)))\n",
    "print(\"All True - {}\".format(all(arr)))"
   ]
  },
  {
   "cell_type": "code",
   "execution_count": null,
   "metadata": {},
   "outputs": [],
   "source": []
  },
  {
   "cell_type": "code",
   "execution_count": null,
   "metadata": {},
   "outputs": [],
   "source": []
  }
 ],
 "metadata": {
  "kernelspec": {
   "display_name": "Python 3",
   "language": "python",
   "name": "python3"
  },
  "language_info": {
   "codemirror_mode": {
    "name": "ipython",
    "version": 3
   },
   "file_extension": ".py",
   "mimetype": "text/x-python",
   "name": "python",
   "nbconvert_exporter": "python",
   "pygments_lexer": "ipython3",
   "version": "3.8.3"
  }
 },
 "nbformat": 4,
 "nbformat_minor": 4
}
