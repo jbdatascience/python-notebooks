{
 "cells": [
  {
   "cell_type": "markdown",
   "metadata": {},
   "source": [
    "# 50 Python codes\n",
    "\n",
    "This notebook includes 50 different Python code snippets which can be useful when you're coding your program. The list includes codes that can natively be run in Python without exteranal libraries.\n",
    "\n",
    "Note that the notebook is designed for **Python 3.6+**"
   ]
  },
  {
   "cell_type": "markdown",
   "metadata": {},
   "source": [
    "## 1. Reverse\n",
    "\n",
    "If you have a string/array in Python, you can easily reverse the string using the `[]` used to access a value at a given index. Inside `[]`, we specify two colons followed by a `-1` which indicates that we want to go through the string/array but with a step `-1`, that simply means in reverse."
   ]
  },
  {
   "cell_type": "code",
   "execution_count": 1,
   "metadata": {},
   "outputs": [],
   "source": [
    "array = [1,2,3,4,5]\n",
    "string = \"This is a string\""
   ]
  },
  {
   "cell_type": "code",
   "execution_count": 2,
   "metadata": {},
   "outputs": [
    {
     "data": {
      "text/plain": [
       "[5, 4, 3, 2, 1]"
      ]
     },
     "execution_count": 2,
     "metadata": {},
     "output_type": "execute_result"
    }
   ],
   "source": [
    "array[::-1]"
   ]
  },
  {
   "cell_type": "code",
   "execution_count": 3,
   "metadata": {},
   "outputs": [
    {
     "data": {
      "text/plain": [
       "'gnirts a si sihT'"
      ]
     },
     "execution_count": 3,
     "metadata": {},
     "output_type": "execute_result"
    }
   ],
   "source": [
    "string[::-1]"
   ]
  },
  {
   "cell_type": "markdown",
   "metadata": {},
   "source": [
    "## 2. Format print\n",
    "\n",
    "When printing an output to the screen, you can using `.format()` to specify each value to be replaced in place of `{}` specified inside the print statement."
   ]
  },
  {
   "cell_type": "code",
   "execution_count": 4,
   "metadata": {},
   "outputs": [
    {
     "name": "stdout",
     "output_type": "stream",
     "text": [
      "The two numbers are 1 and 2\n"
     ]
    }
   ],
   "source": [
    "a = 1\n",
    "b = 2\n",
    "\n",
    "print(\"The two numbers are {} and {}\".format(a, b))"
   ]
  },
  {
   "cell_type": "markdown",
   "metadata": {},
   "source": [
    "Taking it a step further, we can specify integer values inside `{}`, starting with 0. This number actually acts as an index for the list of values defined in `.format()`. \n",
    "\n",
    "So, if we specify `0` in the first bracket above, we'll actually see that the value is replaced by `a`. If we use `1`, the value will be replaced by `b`.\n",
    "\n",
    "This allows us to specify the values inside `format()` in any order and then simply use the index values in the print part as needed."
   ]
  },
  {
   "cell_type": "code",
   "execution_count": 5,
   "metadata": {},
   "outputs": [
    {
     "name": "stdout",
     "output_type": "stream",
     "text": [
      "The two numbers are 1 and 2\n",
      "The two numbers are 2 and 1 are reversed just in printing\n"
     ]
    }
   ],
   "source": [
    "print(\"The two numbers are {0} and {1}\".format(a, b))\n",
    "print(\"The two numbers are {1} and {0} are reversed just during printing\".format(a, b))"
   ]
  },
  {
   "cell_type": "markdown",
   "metadata": {},
   "source": [
    "## 3. Extracting values into separate variables\n",
    "\n",
    "In Python, you can specify comma separated variables equal to values in an array and they will get assigned the correct values from the array."
   ]
  },
  {
   "cell_type": "code",
   "execution_count": 11,
   "metadata": {},
   "outputs": [
    {
     "name": "stdout",
     "output_type": "stream",
     "text": [
      "first = 1, middle = 2 and lat = 3\n"
     ]
    }
   ],
   "source": [
    "first, middle, last = [1, 2, 3]\n",
    "print(\"first = {}, middle = {} and lat = {}\".format(first, middle, last))"
   ]
  },
  {
   "cell_type": "markdown",
   "metadata": {},
   "source": [
    "## 4. Extracting specific values\n",
    "\n",
    "If you have a list/dictionary of numbers and you want to extract the first and last values from them, it's very easy. We use `*` to assign more than one value to a variable. I'm using `_` to denote that I won't be using the values that will fall in that place.\n",
    "\n",
    "In the example below, 1 is assigned to `first`, 6 is assigned to `last` and the rest is assigned to `_`."
   ]
  },
  {
   "cell_type": "code",
   "execution_count": 10,
   "metadata": {},
   "outputs": [
    {
     "name": "stdout",
     "output_type": "stream",
     "text": [
      "first = 1, last = 6\n"
     ]
    }
   ],
   "source": [
    "first, *_, last = [1, 2, 3, 4, 5, 6]\n",
    "print(\"first = {}, last = {}\".format(first, last))"
   ]
  },
  {
   "cell_type": "markdown",
   "metadata": {},
   "source": [
    "The above code can be modified to get any set of values like the first two, or the last three or so on just be changing the position of `*` marked variable."
   ]
  },
  {
   "cell_type": "markdown",
   "metadata": {},
   "source": [
    "## 5. Iterate multiple lists\n",
    "\n",
    "In Python, it's very easy to go over the elements of a list using a for loop. But what if you want to traverse two lists simulatenously? We use the `zip()` method to create a list of tuples which we can iterate over in a for loop. Here, we'll see that in each tuple, the first element belongs to first list and second element belongs to second list."
   ]
  },
  {
   "cell_type": "code",
   "execution_count": 12,
   "metadata": {},
   "outputs": [
    {
     "name": "stdout",
     "output_type": "stream",
     "text": [
      "Values: 1 - 5\n",
      "Values: 2 - 6\n",
      "Values: 3 - 7\n",
      "Values: 4 - 8\n"
     ]
    }
   ],
   "source": [
    "arr1 = [1, 2, 3, 4]\n",
    "arr2 = [5, 6, 7, 8]\n",
    "for first, second in zip(arr1, arr2):\n",
    "    print(\"Values: {} - {}\".format(first, second))"
   ]
  },
  {
   "cell_type": "markdown",
   "metadata": {},
   "source": [
    "## 6. Repeat strings without loops\n",
    "\n",
    "We can repeat a string just by multiplying it by the number of times we want to repeat it."
   ]
  },
  {
   "cell_type": "code",
   "execution_count": 19,
   "metadata": {},
   "outputs": [
    {
     "data": {
      "text/plain": [
       "'text text text text text '"
      ]
     },
     "execution_count": 19,
     "metadata": {},
     "output_type": "execute_result"
    }
   ],
   "source": [
    "\"text \"*5"
   ]
  },
  {
   "cell_type": "markdown",
   "metadata": {},
   "source": [
    "## 7. Any vs all\n",
    "\n",
    "Check if at least one of the values is `True` using `any()` or all are `True` using `all()`."
   ]
  },
  {
   "cell_type": "code",
   "execution_count": 26,
   "metadata": {},
   "outputs": [
    {
     "name": "stdout",
     "output_type": "stream",
     "text": [
      "At least one True - True\n",
      "All True - False\n"
     ]
    }
   ],
   "source": [
    "arr = [False, False, False, True, False, False]\n",
    "print(\"At least one True - {}\".format(any(arr)))\n",
    "print(\"All True - {}\".format(all(arr)))"
   ]
  },
  {
   "cell_type": "markdown",
   "metadata": {},
   "source": [
    "## 8. Array from arrays\n",
    "\n",
    "If we have an array, we can iterate and apply a method on all elements of the array to create a new one.\n",
    "\n",
    "`arr2` below is the array of squares of values in `arr1` using this simple trick."
   ]
  },
  {
   "cell_type": "code",
   "execution_count": 27,
   "metadata": {},
   "outputs": [
    {
     "data": {
      "text/plain": [
       "[1, 4, 9, 16]"
      ]
     },
     "execution_count": 27,
     "metadata": {},
     "output_type": "execute_result"
    }
   ],
   "source": [
    "arr1 = [1, 2, 3, 4]\n",
    "arr2 = [a*a for a in arr1]\n",
    "arr2"
   ]
  },
  {
   "cell_type": "markdown",
   "metadata": {},
   "source": [
    "## 9. In place swapping\n",
    "\n",
    "We can swap two numbers in Python with just one line of code."
   ]
  },
  {
   "cell_type": "code",
   "execution_count": 28,
   "metadata": {},
   "outputs": [
    {
     "name": "stdout",
     "output_type": "stream",
     "text": [
      "Original: first = 1, second = 10\n",
      "Swapped: first = 10, second = 1\n"
     ]
    }
   ],
   "source": [
    "a = 1\n",
    "b = 10\n",
    "print(\"Original: first = {}, second = {}\".format(a, b))\n",
    "a, b = b, a\n",
    "print(\"Swapped: first = {}, second = {}\".format(a, b))"
   ]
  },
  {
   "cell_type": "markdown",
   "metadata": {},
   "source": [
    "## 10. Combine array of strings\n",
    "\n",
    "If we have an array of strings, we can create a sentence out of it using `join`."
   ]
  },
  {
   "cell_type": "code",
   "execution_count": 29,
   "metadata": {},
   "outputs": [
    {
     "data": {
      "text/plain": [
       "'My name is Karan'"
      ]
     },
     "execution_count": 29,
     "metadata": {},
     "output_type": "execute_result"
    }
   ],
   "source": [
    "arr = [\"My\", \"name\", \"is\", \"Karan\"]\n",
    "\" \".join(arr)"
   ]
  },
  {
   "cell_type": "markdown",
   "metadata": {},
   "source": [
    "Note that above, we use `\" \"` to denote that we want element to be joined by a space. We can use other values too for example ` & `."
   ]
  },
  {
   "cell_type": "code",
   "execution_count": 30,
   "metadata": {},
   "outputs": [
    {
     "data": {
      "text/plain": [
       "'My & name & is & Karan'"
      ]
     },
     "execution_count": 30,
     "metadata": {},
     "output_type": "execute_result"
    }
   ],
   "source": [
    "arr = [\"My\", \"name\", \"is\", \"Karan\"]\n",
    "\" & \".join(arr)"
   ]
  },
  {
   "cell_type": "code",
   "execution_count": null,
   "metadata": {},
   "outputs": [],
   "source": []
  }
 ],
 "metadata": {
  "kernelspec": {
   "display_name": "Python 3",
   "language": "python",
   "name": "python3"
  },
  "language_info": {
   "codemirror_mode": {
    "name": "ipython",
    "version": 3
   },
   "file_extension": ".py",
   "mimetype": "text/x-python",
   "name": "python",
   "nbconvert_exporter": "python",
   "pygments_lexer": "ipython3",
   "version": "3.8.3"
  }
 },
 "nbformat": 4,
 "nbformat_minor": 4
}
